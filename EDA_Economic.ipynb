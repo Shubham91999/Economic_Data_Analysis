{
 "cells": [
  {
   "cell_type": "code",
   "execution_count": 1,
   "metadata": {},
   "outputs": [
    {
     "name": "stdout",
     "output_type": "stream",
     "text": [
      "Note: you may need to restart the kernel to use updated packages.\n"
     ]
    }
   ],
   "source": [
    "#We are using fredapi to fetch the economic data\n",
    "%pip install fredapi > /dev/null"
   ]
  },
  {
   "cell_type": "markdown",
   "metadata": {},
   "source": [
    "#### We will require a fred api key to fetch data. Using api to fetch data eliminates the need of scraping or downloading data from different sources.\n",
    "#### Use following link to create your api key: https://fredaccount.stlouisfed.org/apikey "
   ]
  },
  {
   "cell_type": "markdown",
   "metadata": {},
   "source": [
    "#### I have stored my api key in apiKey.json and importing it in credentials variable. Create your own API key and store it in json file. You can use all the secret variables by loading this file. Do not forget to add that file in gitignore."
   ]
  },
  {
   "cell_type": "code",
   "execution_count": 8,
   "metadata": {},
   "outputs": [],
   "source": [
    "#Loading API key in api_key variable\n",
    "import json\n",
    "try:\n",
    "    with open('apiKey.json') as file:\n",
    "        credentials = json.load(file)\n",
    "except FileNotFoundError:\n",
    "    print(\"File not found\")\n",
    "api_key = credentials['fredAPI']"
   ]
  },
  {
   "cell_type": "code",
   "execution_count": 2,
   "metadata": {},
   "outputs": [],
   "source": [
    "#Importing required dependencies\n",
    "import pandas as pd\n",
    "import numpy as np\n",
    "import matplotlib.pyplot as plt\n",
    "import plotly.express as px\n",
    "import time"
   ]
  },
  {
   "cell_type": "code",
   "execution_count": 5,
   "metadata": {},
   "outputs": [],
   "source": [
    "#Style fivethirtyeight offers a clean and minimal look for the graphs and plots\n",
    "plt.style.use('fivethirtyeight')\n",
    "\n",
    "#Setting macimum number of columns to 500\n",
    "pd.set_option('display.max_columns', 500)\n",
    "\n",
    "#Getting the list od default colors\n",
    "color_pal = plt.rcParams[\"axes.prop_cycle\"].by_key()[\"color\"]\n",
    "\n",
    "\n"
   ]
  },
  {
   "cell_type": "code",
   "execution_count": 9,
   "metadata": {},
   "outputs": [],
   "source": [
    "#Importing Fred API \n",
    "from fredapi import Fred\n",
    "\n",
    "#Assign API key \n",
    "fred_key = api_key"
   ]
  },
  {
   "cell_type": "code",
   "execution_count": 12,
   "metadata": {},
   "outputs": [
    {
     "data": {
      "text/plain": [
       "<fredapi.fred.Fred at 0x1612f0ad0>"
      ]
     },
     "execution_count": 12,
     "metadata": {},
     "output_type": "execute_result"
    }
   ],
   "source": [
    "#Creating a Fred object\n",
    "fred = Fred(api_key=fred_key)"
   ]
  },
  {
   "cell_type": "markdown",
   "metadata": {},
   "source": [
    "#### Fred API offers two main options to get data.\n",
    "#### 1. Search: Allwos us to search the economic data series using keywords. Matching series ids can be used to pull data for analysis and visualization.\n",
    "#### 2 Pull: Once we identify the data series, we can use get_series() to pull the data for further analysis."
   ]
  },
  {
   "cell_type": "code",
   "execution_count": 13,
   "metadata": {},
   "outputs": [
    {
     "data": {
      "text/html": [
       "<div>\n",
       "<style scoped>\n",
       "    .dataframe tbody tr th:only-of-type {\n",
       "        vertical-align: middle;\n",
       "    }\n",
       "\n",
       "    .dataframe tbody tr th {\n",
       "        vertical-align: top;\n",
       "    }\n",
       "\n",
       "    .dataframe thead th {\n",
       "        text-align: right;\n",
       "    }\n",
       "</style>\n",
       "<table border=\"1\" class=\"dataframe\">\n",
       "  <thead>\n",
       "    <tr style=\"text-align: right;\">\n",
       "      <th></th>\n",
       "      <th>id</th>\n",
       "      <th>realtime_start</th>\n",
       "      <th>realtime_end</th>\n",
       "      <th>title</th>\n",
       "      <th>observation_start</th>\n",
       "      <th>observation_end</th>\n",
       "      <th>frequency</th>\n",
       "      <th>frequency_short</th>\n",
       "      <th>units</th>\n",
       "      <th>units_short</th>\n",
       "      <th>seasonal_adjustment</th>\n",
       "      <th>seasonal_adjustment_short</th>\n",
       "      <th>last_updated</th>\n",
       "      <th>popularity</th>\n",
       "      <th>notes</th>\n",
       "    </tr>\n",
       "    <tr>\n",
       "      <th>series id</th>\n",
       "      <th></th>\n",
       "      <th></th>\n",
       "      <th></th>\n",
       "      <th></th>\n",
       "      <th></th>\n",
       "      <th></th>\n",
       "      <th></th>\n",
       "      <th></th>\n",
       "      <th></th>\n",
       "      <th></th>\n",
       "      <th></th>\n",
       "      <th></th>\n",
       "      <th></th>\n",
       "      <th></th>\n",
       "      <th></th>\n",
       "    </tr>\n",
       "  </thead>\n",
       "  <tbody>\n",
       "    <tr>\n",
       "      <th>BAMLH0A0HYM2</th>\n",
       "      <td>BAMLH0A0HYM2</td>\n",
       "      <td>2024-09-19</td>\n",
       "      <td>2024-09-19</td>\n",
       "      <td>ICE BofA US High Yield Index Option-Adjusted S...</td>\n",
       "      <td>1996-12-31</td>\n",
       "      <td>2024-09-18</td>\n",
       "      <td>Daily, Close</td>\n",
       "      <td>D</td>\n",
       "      <td>Percent</td>\n",
       "      <td>%</td>\n",
       "      <td>Not Seasonally Adjusted</td>\n",
       "      <td>NSA</td>\n",
       "      <td>2024-09-19 08:58:09-05:00</td>\n",
       "      <td>92</td>\n",
       "      <td>The ICE BofA Option-Adjusted Spreads (OASs) ar...</td>\n",
       "    </tr>\n",
       "    <tr>\n",
       "      <th>CSUSHPINSA</th>\n",
       "      <td>CSUSHPINSA</td>\n",
       "      <td>2024-09-19</td>\n",
       "      <td>2024-09-19</td>\n",
       "      <td>S&amp;P CoreLogic Case-Shiller U.S. National Home ...</td>\n",
       "      <td>1987-01-01</td>\n",
       "      <td>2024-06-01</td>\n",
       "      <td>Monthly</td>\n",
       "      <td>M</td>\n",
       "      <td>Index Jan 2000=100</td>\n",
       "      <td>Index Jan 2000=100</td>\n",
       "      <td>Not Seasonally Adjusted</td>\n",
       "      <td>NSA</td>\n",
       "      <td>2024-08-27 08:12:01-05:00</td>\n",
       "      <td>88</td>\n",
       "      <td>For more information regarding the index, plea...</td>\n",
       "    </tr>\n",
       "    <tr>\n",
       "      <th>SP500</th>\n",
       "      <td>SP500</td>\n",
       "      <td>2024-09-19</td>\n",
       "      <td>2024-09-19</td>\n",
       "      <td>S&amp;P 500</td>\n",
       "      <td>2014-09-19</td>\n",
       "      <td>2024-09-18</td>\n",
       "      <td>Daily, Close</td>\n",
       "      <td>D</td>\n",
       "      <td>Index</td>\n",
       "      <td>Index</td>\n",
       "      <td>Not Seasonally Adjusted</td>\n",
       "      <td>NSA</td>\n",
       "      <td>2024-09-18 19:10:57-05:00</td>\n",
       "      <td>83</td>\n",
       "      <td>The observations for the S&amp;P 500 represent the...</td>\n",
       "    </tr>\n",
       "    <tr>\n",
       "      <th>MEHOINUSA672N</th>\n",
       "      <td>MEHOINUSA672N</td>\n",
       "      <td>2024-09-19</td>\n",
       "      <td>2024-09-19</td>\n",
       "      <td>Real Median Household Income in the United States</td>\n",
       "      <td>1984-01-01</td>\n",
       "      <td>2023-01-01</td>\n",
       "      <td>Annual</td>\n",
       "      <td>A</td>\n",
       "      <td>2023 CPI-U-RS Adjusted Dollars</td>\n",
       "      <td>2023 CPI-U-RS Adjusted $</td>\n",
       "      <td>Not Seasonally Adjusted</td>\n",
       "      <td>NSA</td>\n",
       "      <td>2024-09-11 09:45:01-05:00</td>\n",
       "      <td>83</td>\n",
       "      <td>Household data are collected as of March.  As ...</td>\n",
       "    </tr>\n",
       "    <tr>\n",
       "      <th>BAMLH0A0HYM2EY</th>\n",
       "      <td>BAMLH0A0HYM2EY</td>\n",
       "      <td>2024-09-19</td>\n",
       "      <td>2024-09-19</td>\n",
       "      <td>ICE BofA US High Yield Index Effective Yield</td>\n",
       "      <td>1996-12-31</td>\n",
       "      <td>2024-09-18</td>\n",
       "      <td>Daily, Close</td>\n",
       "      <td>D</td>\n",
       "      <td>Percent</td>\n",
       "      <td>%</td>\n",
       "      <td>Not Seasonally Adjusted</td>\n",
       "      <td>NSA</td>\n",
       "      <td>2024-09-19 08:58:12-05:00</td>\n",
       "      <td>82</td>\n",
       "      <td>This data represents the effective yield of th...</td>\n",
       "    </tr>\n",
       "  </tbody>\n",
       "</table>\n",
       "</div>"
      ],
      "text/plain": [
       "                            id realtime_start realtime_end  \\\n",
       "series id                                                    \n",
       "BAMLH0A0HYM2      BAMLH0A0HYM2     2024-09-19   2024-09-19   \n",
       "CSUSHPINSA          CSUSHPINSA     2024-09-19   2024-09-19   \n",
       "SP500                    SP500     2024-09-19   2024-09-19   \n",
       "MEHOINUSA672N    MEHOINUSA672N     2024-09-19   2024-09-19   \n",
       "BAMLH0A0HYM2EY  BAMLH0A0HYM2EY     2024-09-19   2024-09-19   \n",
       "\n",
       "                                                            title  \\\n",
       "series id                                                           \n",
       "BAMLH0A0HYM2    ICE BofA US High Yield Index Option-Adjusted S...   \n",
       "CSUSHPINSA      S&P CoreLogic Case-Shiller U.S. National Home ...   \n",
       "SP500                                                     S&P 500   \n",
       "MEHOINUSA672N   Real Median Household Income in the United States   \n",
       "BAMLH0A0HYM2EY       ICE BofA US High Yield Index Effective Yield   \n",
       "\n",
       "               observation_start observation_end     frequency  \\\n",
       "series id                                                        \n",
       "BAMLH0A0HYM2          1996-12-31      2024-09-18  Daily, Close   \n",
       "CSUSHPINSA            1987-01-01      2024-06-01       Monthly   \n",
       "SP500                 2014-09-19      2024-09-18  Daily, Close   \n",
       "MEHOINUSA672N         1984-01-01      2023-01-01        Annual   \n",
       "BAMLH0A0HYM2EY        1996-12-31      2024-09-18  Daily, Close   \n",
       "\n",
       "               frequency_short                           units  \\\n",
       "series id                                                        \n",
       "BAMLH0A0HYM2                 D                         Percent   \n",
       "CSUSHPINSA                   M              Index Jan 2000=100   \n",
       "SP500                        D                           Index   \n",
       "MEHOINUSA672N                A  2023 CPI-U-RS Adjusted Dollars   \n",
       "BAMLH0A0HYM2EY               D                         Percent   \n",
       "\n",
       "                             units_short      seasonal_adjustment  \\\n",
       "series id                                                           \n",
       "BAMLH0A0HYM2                           %  Not Seasonally Adjusted   \n",
       "CSUSHPINSA            Index Jan 2000=100  Not Seasonally Adjusted   \n",
       "SP500                              Index  Not Seasonally Adjusted   \n",
       "MEHOINUSA672N   2023 CPI-U-RS Adjusted $  Not Seasonally Adjusted   \n",
       "BAMLH0A0HYM2EY                         %  Not Seasonally Adjusted   \n",
       "\n",
       "               seasonal_adjustment_short               last_updated  \\\n",
       "series id                                                             \n",
       "BAMLH0A0HYM2                         NSA  2024-09-19 08:58:09-05:00   \n",
       "CSUSHPINSA                           NSA  2024-08-27 08:12:01-05:00   \n",
       "SP500                                NSA  2024-09-18 19:10:57-05:00   \n",
       "MEHOINUSA672N                        NSA  2024-09-11 09:45:01-05:00   \n",
       "BAMLH0A0HYM2EY                       NSA  2024-09-19 08:58:12-05:00   \n",
       "\n",
       "               popularity                                              notes  \n",
       "series id                                                                     \n",
       "BAMLH0A0HYM2           92  The ICE BofA Option-Adjusted Spreads (OASs) ar...  \n",
       "CSUSHPINSA             88  For more information regarding the index, plea...  \n",
       "SP500                  83  The observations for the S&P 500 represent the...  \n",
       "MEHOINUSA672N          83  Household data are collected as of March.  As ...  \n",
       "BAMLH0A0HYM2EY         82  This data represents the effective yield of th...  "
      ]
     },
     "execution_count": 13,
     "metadata": {},
     "output_type": "execute_result"
    }
   ],
   "source": [
    "#Searching revelant data series of S&P500, ordering result by popularity\n",
    "sp_search = fred.search('S&P',order_by='popularity')\n",
    "sp_search.head()"
   ]
  },
  {
   "cell_type": "markdown",
   "metadata": {},
   "source": [
    "#### With the search function, we got the revelant data series. Now, we can use series id to pull the required data."
   ]
  },
  {
   "cell_type": "code",
   "execution_count": 14,
   "metadata": {},
   "outputs": [],
   "source": [
    "#Pulling data from series SP500 \n",
    "sp500 = fred.get_series(series_id='SP500')"
   ]
  },
  {
   "cell_type": "code",
   "execution_count": 22,
   "metadata": {},
   "outputs": [
    {
     "data": {
      "image/png": "[encoded data removed]",
      "text/plain": [
       "<Figure size 1000x500 with 1 Axes>"
      ]
     },
     "metadata": {},
     "output_type": "display_data"
    }
   ],
   "source": [
    "#Plotting the data points of SP500 data series\n",
    "sp500.plot(figsize=(10,5), title='S&P 500', lw=2)\n",
    "plt.show()\n"
   ]
  },
  {
   "cell_type": "markdown",
   "metadata": {},
   "source": []
  }
 ],
 "metadata": {
  "kernelspec": {
   "display_name": "base",
   "language": "python",
   "name": "python3"
  },
  "language_info": {
   "codemirror_mode": {
    "name": "ipython",
    "version": 3
   },
   "file_extension": ".py",
   "mimetype": "text/x-python",
   "name": "python",
   "nbconvert_exporter": "python",
   "pygments_lexer": "ipython3",
   "version": "3.11.5"
  }
 },
 "nbformat": 4,
 "nbformat_minor": 2
}
